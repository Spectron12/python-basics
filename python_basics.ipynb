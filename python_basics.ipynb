{
  "nbformat": 4,
  "nbformat_minor": 0,
  "metadata": {
    "colab": {
      "provenance": []
    },
    "kernelspec": {
      "name": "python3",
      "display_name": "Python 3"
    },
    "language_info": {
      "name": "python"
    }
  },
  "cells": [
    {
      "cell_type": "markdown",
      "source": [
        "# **python basics assignment **"
      ],
      "metadata": {
        "id": "v1vm1P7jIr3J"
      }
    },
    {
      "cell_type": "markdown",
      "source": [
        "1. What is Python, and why is it popular?\n",
        "  - Python is a high-level programming language known for its simplicity and readability. It's popular because it's easy to learn, has a huge community, and is widely used in web development, data science, automation, and AI. Plus, it has tons of libraries that make coding faster and easier\n"
      ],
      "metadata": {
        "id": "s1MkEkFMI_do"
      }
    },
    {
      "cell_type": "markdown",
      "source": [
        "2. What is an interpreter in Python?\n",
        "   - The Python interpreter is the program that runs Python code by executing it line by line. It converts the code into machine-readable instructions on the fly, making Python easy to debug and run without needing compilation. This is why Python is often called an \"interpreted language.\"\n"
      ],
      "metadata": {
        "id": "nWGKowQII9PQ"
      }
    },
    {
      "cell_type": "markdown",
      "source": [
        "3. What are pre-defined keywords in Python?\n",
        "   - Pre-defined keywords in Python are reserved words that have special meanings and cannot be used as variable names. Examples include if, else, while, for, def, class, import, try, and return. They help define the structure and logic of the code."
      ],
      "metadata": {
        "id": "R0kY7DtXKBOI"
      }
    },
    {
      "cell_type": "markdown",
      "source": [
        "4.  Can keywords be used as variable names ?\n",
        "   - No, keywords cannot be used as variable names in Python because they have predefined meanings and are part of the language syntax. For example, trying to name a variable if = 5 will result in a syntax error."
      ],
      "metadata": {
        "id": "rwM7risuKk-o"
      }
    },
    {
      "cell_type": "markdown",
      "source": [
        "5.  What is mutability in Python ?\n",
        "    - Mutability in Python refers to whether an object’s value can be changed after creation. Mutable objects (like lists, dictionaries, and sets) can be modified, while immutable objects (like tuples, strings, and integers) cannot be changed once created."
      ],
      "metadata": {
        "id": "eu7zqx8iK4d4"
      }
    },
    {
      "cell_type": "markdown",
      "source": [
        "6.  Why are lists mutable, but tuples are immutable?\n",
        "- Lists are mutable because they are designed for dynamic data storage, allowing elements to be added, removed, or modified. Tuples, on the other hand, are immutable to ensure data integrity and performance, making them safer for fixed collections of data."
      ],
      "metadata": {
        "id": "Gqjjj9c-LKjY"
      }
    },
    {
      "cell_type": "code",
      "execution_count": null,
      "metadata": {
        "id": "nJLzVeHSIqFU"
      },
      "outputs": [],
      "source": []
    },
    {
      "cell_type": "markdown",
      "source": [
        "7.  What is the difference between “==” and “is” operators in Python?\n",
        "- == checks for value equality (whether two variables have the same content), while is checks for identity equality (whether two variables point to the same memory location).\n"
      ],
      "metadata": {
        "id": "RZemBWkhLRov"
      }
    },
    {
      "cell_type": "code",
      "source": [
        "a = [1, 2, 3]\n",
        "b = [1, 2, 3]\n",
        "print(a == b)  # True (same values)\n",
        "print(a is b)  # False (different memory locations)\n"
      ],
      "metadata": {
        "colab": {
          "base_uri": "https://localhost:8080/"
        },
        "id": "8RLKPqkMLrjw",
        "outputId": "2cfaec9e-f20c-4e1e-9657-9ccd1cea491c"
      },
      "execution_count": 1,
      "outputs": [
        {
          "output_type": "stream",
          "name": "stdout",
          "text": [
            "True\n",
            "False\n"
          ]
        }
      ]
    },
    {
      "cell_type": "markdown",
      "source": [
        "8.  What are logical operators in Python ?\n",
        "- Logical operators in Python are used to combine conditional statements. The three main ones are:\n",
        "\n",
        "      * and → Returns True if both conditions are true.\n",
        "      * or → Returns True if at least one condition is true.\n",
        "      * not → Reverses the truth value of a condition."
      ],
      "metadata": {
        "id": "N5obhZzrL3to"
      }
    },
    {
      "cell_type": "code",
      "source": [
        "a = 10\n",
        "b = 20\n",
        "print(a > 5 and b > 15)  # True\n",
        "print(a > 15 or b > 15)  # True\n",
        "print(not (a > 5))       # False\n"
      ],
      "metadata": {
        "id": "aaAXI6hGMydY"
      },
      "execution_count": null,
      "outputs": []
    },
    {
      "cell_type": "markdown",
      "source": [
        "9.  What is type casting in Python ?\n",
        "- Type casting in Python is converting one data type into another. It helps in situations where different types need to be used together.\n",
        "Examples:\n",
        "\n"
      ],
      "metadata": {
        "id": "UBqzJjOnNJH3"
      }
    },
    {
      "cell_type": "code",
      "source": [
        "x = \"10\"\n",
        "print(int(x))   # Converts string to integer (10)\n",
        "print(float(x)) # Converts string to float (10.0)\n",
        "print(str(100)) # Converts integer to string (\"100\")\n"
      ],
      "metadata": {
        "id": "XbWfB69tNXuQ"
      },
      "execution_count": null,
      "outputs": []
    },
    {
      "cell_type": "markdown",
      "source": [
        "10.  What is the difference between implicit and explicit type casting ?\n",
        "- Implicit Type Casting (Done by Python): Python automatically converts a smaller data type to a larger one to avoid data loss.\n",
        "\n",
        "     explicit Type Casting (Done by the programmer): You manually convert one type to another using functions like int(), float(), or str()."
      ],
      "metadata": {
        "id": "VLkGRA6gN8uY"
      }
    },
    {
      "cell_type": "markdown",
      "source": [],
      "metadata": {
        "id": "ebNoC7rSLRRw"
      }
    },
    {
      "cell_type": "markdown",
      "source": [
        "11. What is the purpose of conditional statements in Python?\n",
        "- Conditional statements in Python control the flow of a program by executing different blocks of code based on conditions. They help make decisions in a program using if, elif, and else.\n",
        "\n"
      ],
      "metadata": {
        "id": "s18FF4kgOjjX"
      }
    },
    {
      "cell_type": "markdown",
      "source": [],
      "metadata": {
        "id": "hIVwcU6WO3q4"
      }
    },
    {
      "cell_type": "markdown",
      "source": [
        "12.  How does the elif statement work ?\n",
        "- The elif statement in Python is used for multiple conditions. It allows checking multiple conditions one by one after an if statement. If the if condition is false, Python checks the elif conditions, and if one is true, that block executes.\n",
        "\n"
      ],
      "metadata": {
        "id": "lgPy1UPgOzLv"
      }
    },
    {
      "cell_type": "markdown",
      "source": [
        "13.  What is the difference between for and while loops ?\n",
        "- for loop: Used when the number of iterations is known. It iterates over sequences like lists, tuples, or ranges."
      ],
      "metadata": {
        "id": "OiDAIBUBO5Yg"
      }
    },
    {
      "cell_type": "code",
      "source": [
        "for i in range(5):\n",
        "    print(i)  # Outputs 0 to 4"
      ],
      "metadata": {
        "id": "9WLAd03fPPg3"
      },
      "execution_count": null,
      "outputs": []
    },
    {
      "cell_type": "markdown",
      "source": [
        "while loop: Used when the number of iterations is unknown and runs until a condition becomes false."
      ],
      "metadata": {
        "id": "1HWwnB8ZPUU4"
      }
    },
    {
      "cell_type": "code",
      "source": [
        "x = 0\n",
        "while x < 5:\n",
        "    print(x)\n",
        "    x += 1  # Outputs 0 to 4"
      ],
      "metadata": {
        "id": "Ixufent4PT63"
      },
      "execution_count": null,
      "outputs": []
    },
    {
      "cell_type": "markdown",
      "source": [
        "14.  Describe a scenario where a while loop is more suitable than a for loop.\n",
        "\n",
        "- A while loop is better when you don’t know in advance how many times the loop should run.\n",
        "\n",
        "Example Scenario: User input validation\n",
        "If you want to keep asking a user for a correct password until they enter the right one:"
      ],
      "metadata": {
        "id": "7WcxbkrbPxkS"
      }
    },
    {
      "cell_type": "code",
      "source": [],
      "metadata": {
        "id": "xhiBTtXHQAu_"
      },
      "execution_count": null,
      "outputs": []
    },
    {
      "cell_type": "markdown",
      "source": [
        "# Practical Questions\n",
        "\n",
        "---\n",
        "\n"
      ],
      "metadata": {
        "id": "MOv8PdexP_N_"
      }
    },
    {
      "cell_type": "markdown",
      "source": [],
      "metadata": {
        "id": "XEcDRRENQSnA"
      }
    },
    {
      "cell_type": "code",
      "source": [
        "#1.Write a Python program to print \"Hello, World\n",
        "print('Hello, world')"
      ],
      "metadata": {
        "colab": {
          "base_uri": "https://localhost:8080/"
        },
        "id": "7WK7m4ooQUX4",
        "outputId": "706a873e-cc8e-4970-ab42-eab583193141"
      },
      "execution_count": 3,
      "outputs": [
        {
          "output_type": "stream",
          "name": "stdout",
          "text": [
            "Hello, world\n"
          ]
        }
      ]
    },
    {
      "cell_type": "code",
      "source": [
        "#2.Write a Python program that displays your name and age\n",
        "a= ('name= Debojyoti ghosh\\nage= 25')\n",
        "print(a)\n"
      ],
      "metadata": {
        "colab": {
          "base_uri": "https://localhost:8080/"
        },
        "id": "xJt5vYzxQuUg",
        "outputId": "874b6b92-2ffc-4064-f108-90c41e3ea44b"
      },
      "execution_count": 7,
      "outputs": [
        {
          "output_type": "stream",
          "name": "stdout",
          "text": [
            "name= Debojyoti ghosh\n",
            "age= 25\n"
          ]
        }
      ]
    },
    {
      "cell_type": "code",
      "source": [
        "# 3.Write code to print all the pre-defined keywords in Python using the keyword library\n",
        "import keyword\n",
        "\n",
        "print(\"Python Keywords:\")\n",
        "print(keyword.kwlist)"
      ],
      "metadata": {
        "colab": {
          "base_uri": "https://localhost:8080/"
        },
        "id": "et9ptET0Rq4w",
        "outputId": "92c302fb-07ed-4cfe-9b8a-5599196820ee"
      },
      "execution_count": 8,
      "outputs": [
        {
          "output_type": "stream",
          "name": "stdout",
          "text": [
            "Python Keywords:\n",
            "['False', 'None', 'True', 'and', 'as', 'assert', 'async', 'await', 'break', 'class', 'continue', 'def', 'del', 'elif', 'else', 'except', 'finally', 'for', 'from', 'global', 'if', 'import', 'in', 'is', 'lambda', 'nonlocal', 'not', 'or', 'pass', 'raise', 'return', 'try', 'while', 'with', 'yield']\n"
          ]
        }
      ]
    },
    {
      "cell_type": "code",
      "source": [
        "#4. Write a program that checks if a given word is a Python keyword\n",
        "import keyword\n",
        "\n",
        "word = input(\"Enter a word: \")\n",
        "\n",
        "if keyword.iskeyword(word):\n",
        "    print(f\"'{word}' is a Python keyword.\")\n",
        "else:\n",
        "    print(f\"'{word}' is NOT a Python keyword.\")\n"
      ],
      "metadata": {
        "colab": {
          "base_uri": "https://localhost:8080/"
        },
        "id": "HjWKeY7zR5l3",
        "outputId": "739e26d9-b09b-4020-e76d-759c966a79eb"
      },
      "execution_count": 13,
      "outputs": [
        {
          "output_type": "stream",
          "name": "stdout",
          "text": [
            "Enter a word: while\n",
            "'while' is a Python keyword.\n"
          ]
        }
      ]
    },
    {
      "cell_type": "code",
      "source": [
        "# 5.Create a list and tuple in Python, and demonstrate how attempting to change an element works differently for each\n",
        "# Creating a list (mutable)\n",
        "my_list = [1, 2, 3]\n",
        "print(\"Original List:\", my_list)\n",
        "\n",
        "# Modifying an element in the list\n",
        "my_list[1] = 5\n",
        "print(\"Modified List:\", my_list)  # Successfully changes [1, 2, 3] → [1, 5, 3]\n",
        "\n",
        "# Creating a tuple (immutable)\n",
        "my_tuple = (1, 2, 3)\n",
        "print(\"\\nOriginal Tuple:\", my_tuple)\n",
        "\n",
        "# Attempting to modify an element in the tuple\n",
        "try:\n",
        "    my_tuple[1] = 5  # This will raise an error\n",
        "except TypeError as e:\n",
        "    print(\"Error:\", e)\n"
      ],
      "metadata": {
        "colab": {
          "base_uri": "https://localhost:8080/"
        },
        "id": "NN1jtF9rT-o7",
        "outputId": "3b3597c9-3acd-47fa-d8da-ff295d2c3de0"
      },
      "execution_count": 14,
      "outputs": [
        {
          "output_type": "stream",
          "name": "stdout",
          "text": [
            "Original List: [1, 2, 3]\n",
            "Modified List: [1, 5, 3]\n",
            "\n",
            "Original Tuple: (1, 2, 3)\n",
            "Error: 'tuple' object does not support item assignment\n"
          ]
        }
      ]
    },
    {
      "cell_type": "code",
      "source": [
        "#6.  Write a function to demonstrate the behavior of mutable and immutable arguments\n",
        "# Immutable example (integer)\n",
        "x = 5\n",
        "print(\"Before modification (int):\", x)\n",
        "y = x + 10  # This creates a new variable, original x remains unchanged\n",
        "print(\"After modification (int):\", x)  # x is still 5\n",
        "\n",
        "# Mutable example (list)\n",
        "lst = [1, 2, 3]\n",
        "print(\"\\nBefore modification (list):\", lst)\n",
        "lst.append(4)  # Modifies the original list\n",
        "print(\"After modification (list):\", lst)  # lst is now [1, 2, 3, 4]\n"
      ],
      "metadata": {
        "colab": {
          "base_uri": "https://localhost:8080/"
        },
        "id": "GrMhkSPJUI2X",
        "outputId": "642da06d-5a91-4358-9eea-59b9808cde05"
      },
      "execution_count": 16,
      "outputs": [
        {
          "output_type": "stream",
          "name": "stdout",
          "text": [
            "Before modification (int): 5\n",
            "After modification (int): 5\n",
            "\n",
            "Before modification (list): [1, 2, 3]\n",
            "After modification (list): [1, 2, 3, 4]\n"
          ]
        }
      ]
    },
    {
      "cell_type": "code",
      "source": [
        "#7. Write a function to demonstrate the behavior of mutable and immutable arguments\n",
        "# Immutable example (integer)\n",
        "x = 5\n",
        "print(\"Before modification (int):\", x)\n",
        "y = x + 10  # Creates a new value, x remains unchanged\n",
        "print(\"After modification (int):\", x)  # Still 5\n",
        "\n",
        "# Mutable example (list)\n",
        "lst = [1, 2, 3]\n",
        "print(\"\\nBefore modification (list):\", lst)\n",
        "lst.append(4)  # Modifies the original list\n",
        "print(\"After modification (list):\", lst)  # Now [1, 2, 3, 4]\n"
      ],
      "metadata": {
        "colab": {
          "base_uri": "https://localhost:8080/"
        },
        "id": "of4r9-gsUbsJ",
        "outputId": "0b334911-15c8-47c4-e368-9a4aff9e78a6"
      },
      "execution_count": 15,
      "outputs": [
        {
          "output_type": "stream",
          "name": "stdout",
          "text": [
            "Before modification (int): 5\n",
            "After modification (int): 5\n",
            "\n",
            "Before modification (list): [1, 2, 3]\n",
            "After modification (list): [1, 2, 3, 4]\n"
          ]
        }
      ]
    },
    {
      "cell_type": "code",
      "source": [
        "#8.  Write a program to demonstrate the use of logical operators\n",
        "# Using 'and' (Both conditions must be True)\n",
        "a = 10\n",
        "b = 20\n",
        "print(a > 5 and b > 15)  # True (Both conditions are True)\n",
        "print(a > 15 and b > 15) # False (One condition is False)\n",
        "\n",
        "# Using 'or' (At least one condition must be True)\n",
        "print(a > 15 or b > 15)  # True (One condition is True)\n",
        "print(a > 15 or b < 10)  # False (Both conditions are False)\n",
        "\n",
        "# Using 'not' (Reverses the result)\n",
        "print(not (a > 5))  # False (a > 5 is True, so 'not' makes it False)\n"
      ],
      "metadata": {
        "colab": {
          "base_uri": "https://localhost:8080/"
        },
        "id": "lvrc_yJMUwdP",
        "outputId": "083ca396-2426-46a9-c924-1132db2bc60a"
      },
      "execution_count": 17,
      "outputs": [
        {
          "output_type": "stream",
          "name": "stdout",
          "text": [
            "True\n",
            "False\n",
            "True\n",
            "False\n",
            "False\n"
          ]
        }
      ]
    },
    {
      "cell_type": "code",
      "source": [
        "#9. Write a Python program to convert user input from string to integer, float, and boolean types\n",
        "user_input = input(\"Enter a value: \")\n",
        "\n",
        "# Convert to integer\n",
        "try:\n",
        "    int_value = int(user_input)\n",
        "    print(\"Integer:\", int_value)\n",
        "except ValueError:\n",
        "    print(\"Cannot convert to integer\")\n",
        "\n",
        "# Convert to float\n",
        "try:\n",
        "    float_value = float(user_input)\n",
        "    print(\"Float:\", float_value)\n",
        "except ValueError:\n",
        "    print(\"Cannot convert to float\")\n",
        "\n",
        "# Convert to boolean\n",
        "bool_value = bool(user_input)  # Empty string → False, any other value → True\n",
        "print(\"Boolean:\", bool_value)\n"
      ],
      "metadata": {
        "colab": {
          "base_uri": "https://localhost:8080/"
        },
        "id": "wB_dq29vVHPf",
        "outputId": "1edd6d86-0082-4d91-f869-44261efca2c6"
      },
      "execution_count": 19,
      "outputs": [
        {
          "output_type": "stream",
          "name": "stdout",
          "text": [
            "Enter a value: j\n",
            "Cannot convert to integer\n",
            "Cannot convert to float\n",
            "Boolean: True\n"
          ]
        }
      ]
    },
    {
      "cell_type": "code",
      "source": [
        "#10. Write code to demonstrate type casting with list elements\n",
        "# List of string numbers\n",
        "str_list = [\"10\", \"20\", \"30\", \"40.5\", \"50.8\"]\n",
        "\n",
        "# Convert to integers (only if possible)\n",
        "int_list = [int(x) for x in str_list if x.isdigit()]\n",
        "print(\"Integer List:\", int_list)  # ['10', '20', '30'] → [10, 20, 30]\n",
        "\n",
        "# Convert all to floats\n",
        "float_list = [float(x) for x in str_list]\n",
        "print(\"Float List:\", float_list)  # ['10', '20', '30', '40.5', '50.8'] → [10.0, 20.0, 30.0, 40.5, 50.8]\n"
      ],
      "metadata": {
        "id": "X8z4M9FcVvNX"
      },
      "execution_count": null,
      "outputs": []
    },
    {
      "cell_type": "code",
      "source": [
        "#11. Write a program that checks if a number is positive, negative, or zero\n",
        "x= int(input('enter a number:'))\n",
        "if (x>0) :\n",
        "  print('the number is positive')\n",
        "elif (x<0):\n",
        "    print('the number is negative')\n",
        "else:\n",
        "      print('the number is zero')"
      ],
      "metadata": {
        "colab": {
          "base_uri": "https://localhost:8080/"
        },
        "id": "Yqj2mgvJWN0H",
        "outputId": "5bd59372-ed81-4449-852e-ba749c73c17d"
      },
      "execution_count": 26,
      "outputs": [
        {
          "output_type": "stream",
          "name": "stdout",
          "text": [
            "enter a number:-5\n",
            "the number is negative\n"
          ]
        }
      ]
    },
    {
      "cell_type": "code",
      "source": [
        "#12. Write a program that checks if a number is positive, negative, or zero\n",
        "for x in range (1,11):\n",
        "  print(x)"
      ],
      "metadata": {
        "colab": {
          "base_uri": "https://localhost:8080/"
        },
        "id": "Jt-5_nw-XM9n",
        "outputId": "f6d69a3c-3b7f-4bfd-f1e0-16b606985602"
      },
      "execution_count": 34,
      "outputs": [
        {
          "output_type": "stream",
          "name": "stdout",
          "text": [
            "1\n",
            "2\n",
            "3\n",
            "4\n",
            "5\n",
            "6\n",
            "7\n",
            "8\n",
            "9\n",
            "10\n"
          ]
        }
      ]
    },
    {
      "cell_type": "code",
      "source": [
        "#13.Write a Python program to find the sum of all even numbers between 1 and 50\n",
        "x= 0\n",
        "y=0\n",
        "while (x<50):\n",
        "  x+=2\n",
        "  y+=x\n",
        "  print(x)\n",
        "print('sum of all the even numbers between 1-50 is :',y)"
      ],
      "metadata": {
        "colab": {
          "base_uri": "https://localhost:8080/"
        },
        "id": "Zn73CsUQXtBX",
        "outputId": "7292a5d4-53c5-403f-af40-c071a58eb1c7"
      },
      "execution_count": 35,
      "outputs": [
        {
          "output_type": "stream",
          "name": "stdout",
          "text": [
            "2\n",
            "4\n",
            "6\n",
            "8\n",
            "10\n",
            "12\n",
            "14\n",
            "16\n",
            "18\n",
            "20\n",
            "22\n",
            "24\n",
            "26\n",
            "28\n",
            "30\n",
            "32\n",
            "34\n",
            "36\n",
            "38\n",
            "40\n",
            "42\n",
            "44\n",
            "46\n",
            "48\n",
            "50\n",
            "sum of all the even numbers between 1-50 is : 650\n"
          ]
        }
      ]
    },
    {
      "cell_type": "code",
      "source": [
        "#14.  Write a program to reverse a string using a while loop\n",
        "text = input(\"Enter a string: \")\n",
        "reversed_text = \"\"\n",
        "i = len(text) - 1\n",
        "\n",
        "while i >= 0:\n",
        "    reversed_text += text[i]\n",
        "    i -= 1\n",
        "\n",
        "print(\"Reversed String:\", reversed_text)\n"
      ],
      "metadata": {
        "colab": {
          "base_uri": "https://localhost:8080/"
        },
        "id": "k9E-cEgkYe-3",
        "outputId": "de46e910-dd9b-4323-cc8c-4983ebea0c5a"
      },
      "execution_count": 36,
      "outputs": [
        {
          "output_type": "stream",
          "name": "stdout",
          "text": [
            "Enter a string: hero\n",
            "Reversed String: oreh\n"
          ]
        }
      ]
    },
    {
      "cell_type": "code",
      "source": [
        "#15.  Write a Python program to calculate the factorial of a number provided by the user using a while loop.\n",
        "x= int(input('enter a number:'))\n",
        "factorial = 1\n",
        "while (x>0):\n",
        "  factorial= x* factorial\n",
        "  x-=1\n",
        "print('factorial of ', x ,'is: ', factorial)"
      ],
      "metadata": {
        "colab": {
          "base_uri": "https://localhost:8080/"
        },
        "id": "1MzhjqitZFpZ",
        "outputId": "91cf70c0-0f48-4c3c-961f-97c6d6cc00e3"
      },
      "execution_count": 40,
      "outputs": [
        {
          "output_type": "stream",
          "name": "stdout",
          "text": [
            "enter a number:3\n",
            "factorial of  0 is:  6\n"
          ]
        }
      ]
    }
  ]
}